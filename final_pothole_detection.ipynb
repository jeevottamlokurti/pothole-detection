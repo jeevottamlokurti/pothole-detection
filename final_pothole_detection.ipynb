{
 "cells": [
  {
   "cell_type": "code",
   "execution_count": null,
   "metadata": {},
   "outputs": [],
   "source": [
    "import cv2 \n",
    "import numpy as np\n",
    "import time\n",
    "import matplotlib.pyplot as plt\n",
    "def calibrate_line():\n",
    "    \n",
    "\n",
    "    videoCaptureObject = cv2.VideoCapture(0)\n",
    "    result = True\n",
    "    while(result):\n",
    "        ret,frame = videoCaptureObject.read()\n",
    "        \n",
    "        result = False\n",
    "    videoCaptureObject.release()\n",
    "    cv2.destroyAllWindows()\n",
    "    frame=image_preocessing(frame)\n",
    "    return frame\n",
    "def image_preocessing(img):\n",
    "    img=img[:,:,2]\n",
    "    lowerb = np.array([150])\n",
    "    upperb = np.array([255])\n",
    "    red_line = cv2.inRange(img, lowerb, upperb)\n",
    "    red_line = cv2.GaussianBlur(red_line,(15,15),0)\n",
    "    ret,thresh1 = cv2.threshold(red_line,0,255,cv2.THRESH_BINARY+cv2.THRESH_OTSU)\n",
    "    return thresh1\n",
    "def detect_pothole(template):\n",
    "    cap = cv2.VideoCapture(0)\n",
    "\n",
    "    while(True):\n",
    "        # Capture frame-by-frame\n",
    "        ret, frame = cap.read()\n",
    "\n",
    "\n",
    "        # Display the resulting frame\n",
    "        cv2.imshow('frame',frame)\n",
    "        if cv2.waitKey(1) & 0xFF == ord('q'):\n",
    "            break\n",
    "\n",
    "        img=image_preocessing(frame)\n",
    "\n",
    "        res = cv2.matchTemplate(img,template,cv2.TM_CCOEFF_NORMED) \n",
    "  \n",
    "        # Specify a threshold \n",
    "        threshold = 0.9\n",
    "  \n",
    "        # Store the coordinates of matched area in a numpy array \n",
    "        loc = np.where( res >= threshold) \n",
    "        count=0\n",
    "        print(loc)\n",
    "        # Draw a rectangle around the matched region. \n",
    "        for pt in zip(*loc[::-1]):\n",
    "            count+=1\n",
    "            cv2.rectangle(img, pt, (pt[0] + w, pt[1] + h), (0,0,255), 3) \n",
    "  \n",
    "        # Show the final image with the matched area. \n",
    "        plt.figure()\n",
    "        plt.imshow(img,cmap='gray')\n",
    "        if(count<1):\n",
    "            print(\"Pothole found\")\n",
    "        else:print(\"Good Road Condition\")\n",
    "    # When everything done, release the capture\n",
    "    cap.release()\n",
    "    cv2.destroyAllWindows()\n",
    "if __name__ == \"__main__\":\n",
    "    template=calibrate_line()\n",
    "    while True:\n",
    "        detect_pothole(template)\n",
    "        time.sleep(1)\n"
   ]
  },
  {
   "cell_type": "code",
   "execution_count": null,
   "metadata": {
    "scrolled": true
   },
   "outputs": [],
   "source": []
  },
  {
   "cell_type": "code",
   "execution_count": null,
   "metadata": {},
   "outputs": [],
   "source": []
  },
  {
   "cell_type": "code",
   "execution_count": null,
   "metadata": {},
   "outputs": [],
   "source": []
  },
  {
   "cell_type": "code",
   "execution_count": null,
   "metadata": {},
   "outputs": [],
   "source": []
  }
 ],
 "metadata": {
  "kernelspec": {
   "display_name": "Python 3",
   "language": "python",
   "name": "python3"
  },
  "language_info": {
   "codemirror_mode": {
    "name": "ipython",
    "version": 3
   },
   "file_extension": ".py",
   "mimetype": "text/x-python",
   "name": "python",
   "nbconvert_exporter": "python",
   "pygments_lexer": "ipython3",
   "version": "3.8.1"
  }
 },
 "nbformat": 4,
 "nbformat_minor": 4
}
